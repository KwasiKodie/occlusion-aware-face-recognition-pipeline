{
 "cells": [
  {
   "cell_type": "markdown",
   "id": "bd1a03fe",
   "metadata": {},
   "source": [
    "# CNN Training Notebook\n",
    "This notebook trains a Convolutional Neural Network (CNN) to classify whether a face image has a mask or not using the MDMFR dataset."
   ]
  },
  {
   "cell_type": "code",
   "execution_count": 1,
   "id": "851aca6d",
   "metadata": {},
   "outputs": [],
   "source": [
    "import os\n",
    "import cv2\n",
    "import numpy as np\n",
    "import pandas as pd\n",
    "from tensorflow.keras.models import Sequential\n",
    "from tensorflow.keras.layers import Conv2D, MaxPooling2D, Flatten, Dense, Dropout\n",
    "from tensorflow.keras.utils import to_categorical\n",
    "from sklearn.model_selection import train_test_split\n",
    "from sklearn.metrics import classification_report, confusion_matrix\n",
    "import matplotlib.pyplot as plt\n",
    "import seaborn as sns"
   ]
  },
  {
   "cell_type": "markdown",
   "id": "6e26b03d",
   "metadata": {},
   "source": [
    "## Step 1: Load Image Paths and Labels"
   ]
  },
  {
   "cell_type": "code",
   "execution_count": 2,
   "id": "a56e8a53",
   "metadata": {},
   "outputs": [],
   "source": [
    "path = \"E:/publications/occlusion aware face recognition\"\n",
    "folders = [\"final with mask\", \"final without mask\"]\n",
    "features, labels = [], []\n",
    "\n",
    "for folder in folders:\n",
    "    folder_path = os.path.join(path, folder)\n",
    "    for filename in os.listdir(folder_path):\n",
    "        img_path = os.path.join(folder_path, filename)\n",
    "        features.append(img_path)\n",
    "        labels.append(0 if \"without\" in folder else 1.0)\n",
    "\n",
    "data = pd.DataFrame({\"features\": features, \"labels\": labels})\n",
    "data.to_csv(os.path.join(path, \"face_mask_detection_data.csv\"), index=False)"
   ]
  },
  {
   "cell_type": "markdown",
   "id": "acdf57cb",
   "metadata": {},
   "source": [
    "## Step 2: Load and Preprocess Images"
   ]
  },
  {
   "cell_type": "code",
   "execution_count": 3,
   "id": "4f4517ab",
   "metadata": {},
   "outputs": [],
   "source": [
    "images = []\n",
    "for img_path in data[\"features\"]:\n",
    "    img = cv2.imread(img_path)\n",
    "    img = cv2.resize(img, (50, 50))\n",
    "    images.append(img)\n",
    "\n",
    "X = np.array(images) / 255.0\n",
    "y = to_categorical(np.array(data[\"labels\"]))"
   ]
  },
  {
   "cell_type": "markdown",
   "id": "3c85fb09",
   "metadata": {},
   "source": [
    "## Step 3: Split Data"
   ]
  },
  {
   "cell_type": "code",
   "execution_count": 4,
   "id": "064a4d73",
   "metadata": {},
   "outputs": [],
   "source": [
    "X_train, X_test, y_train, y_test = train_test_split(X, y, test_size=0.15, random_state=42)"
   ]
  },
  {
   "cell_type": "markdown",
   "id": "7ad7566a",
   "metadata": {},
   "source": [
    "## Step 4: Define and Train CNN Model"
   ]
  },
  {
   "cell_type": "code",
   "execution_count": 5,
   "id": "57cba874",
   "metadata": {},
   "outputs": [
    {
     "name": "stdout",
     "output_type": "stream",
     "text": [
      "Epoch 1/10\n",
      "395/395 [==============================] - 24s 48ms/step - loss: 0.1704 - accuracy: 0.9319 - val_loss: 0.0678 - val_accuracy: 0.9715\n",
      "Epoch 2/10\n",
      "395/395 [==============================] - 19s 48ms/step - loss: 0.0762 - accuracy: 0.9770 - val_loss: 0.0762 - val_accuracy: 0.9679\n",
      "Epoch 3/10\n",
      "395/395 [==============================] - 19s 48ms/step - loss: 0.0609 - accuracy: 0.9815 - val_loss: 0.0475 - val_accuracy: 0.9822\n",
      "Epoch 4/10\n",
      "395/395 [==============================] - 20s 50ms/step - loss: 0.0447 - accuracy: 0.9854 - val_loss: 0.0329 - val_accuracy: 0.9865\n",
      "Epoch 5/10\n",
      "395/395 [==============================] - 19s 49ms/step - loss: 0.0362 - accuracy: 0.9880 - val_loss: 0.0365 - val_accuracy: 0.9872\n",
      "Epoch 6/10\n",
      "395/395 [==============================] - 21s 53ms/step - loss: 0.0272 - accuracy: 0.9914 - val_loss: 0.0309 - val_accuracy: 0.9872\n",
      "Epoch 7/10\n",
      "395/395 [==============================] - 20s 51ms/step - loss: 0.0243 - accuracy: 0.9920 - val_loss: 0.0371 - val_accuracy: 0.9872\n",
      "Epoch 8/10\n",
      "395/395 [==============================] - 19s 49ms/step - loss: 0.0238 - accuracy: 0.9910 - val_loss: 0.0396 - val_accuracy: 0.9872\n",
      "Epoch 9/10\n",
      "395/395 [==============================] - 20s 49ms/step - loss: 0.0188 - accuracy: 0.9927 - val_loss: 0.0331 - val_accuracy: 0.9900\n",
      "Epoch 10/10\n",
      "395/395 [==============================] - 20s 50ms/step - loss: 0.0259 - accuracy: 0.9904 - val_loss: 0.0344 - val_accuracy: 0.9900\n"
     ]
    }
   ],
   "source": [
    "model = Sequential([\n",
    "    Conv2D(32, (3, 3), activation='relu', input_shape=(50, 50, 3)),\n",
    "    MaxPooling2D(pool_size=(2, 2)),\n",
    "    Dropout(0.25),\n",
    "    Flatten(),\n",
    "    Dense(64, activation='relu'),\n",
    "    Dropout(0.5),\n",
    "    Dense(2, activation='softmax')\n",
    "])\n",
    "\n",
    "model.compile(optimizer='adam', loss='categorical_crossentropy', metrics=['accuracy'])\n",
    "\n",
    "history = model.fit(X_train, y_train, epochs=10, batch_size=32, validation_split=0.1)"
   ]
  },
  {
   "cell_type": "markdown",
   "id": "f89fc95d",
   "metadata": {},
   "source": [
    "## Step 5: Evaluate the Model"
   ]
  },
  {
   "cell_type": "code",
   "execution_count": 6,
   "id": "70088dbc",
   "metadata": {},
   "outputs": [
    {
     "name": "stdout",
     "output_type": "stream",
     "text": [
      "78/78 [==============================] - 1s 11ms/step\n",
      "              precision    recall  f1-score   support\n",
      "\n",
      "           0       0.99      1.00      0.99      1224\n",
      "           1       1.00      0.99      0.99      1253\n",
      "\n",
      "    accuracy                           0.99      2477\n",
      "   macro avg       0.99      0.99      0.99      2477\n",
      "weighted avg       0.99      0.99      0.99      2477\n",
      "\n"
     ]
    }
   ],
   "source": [
    "y_pred = model.predict(X_test)\n",
    "y_pred_classes = np.argmax(y_pred, axis=1)\n",
    "y_true = np.argmax(y_test, axis=1)\n",
    "\n",
    "print(classification_report(y_true, y_pred_classes))"
   ]
  },
  {
   "cell_type": "markdown",
   "id": "a107773e",
   "metadata": {},
   "source": [
    "## Step 6: Confusion Matrix"
   ]
  },
  {
   "cell_type": "code",
   "execution_count": 9,
   "id": "3bb22776",
   "metadata": {},
   "outputs": [
    {
     "data": {
      "image/png": "[encoded data removed]",
      "text/plain": [
       "<Figure size 600x500 with 2 Axes>"
      ]
     },
     "metadata": {},
     "output_type": "display_data"
    }
   ],
   "source": [
    "cm = confusion_matrix(y_true, y_pred_classes)\n",
    "plt.figure(figsize=(6,5))\n",
    "sns.heatmap(cm, annot=True, fmt='d', cmap='Blues', xticklabels=['No Mask', 'Mask'], yticklabels=['No Mask', 'Mask'])\n",
    "plt.xlabel('Predicted')\n",
    "plt.ylabel('Actual')\n",
    "plt.title('CNN Confusion Matrix')\n",
    "plt.tight_layout()\n",
    "plt.savefig(\"E:/edu/occlusion-aware-face-recognition/results/confusion_matrix_cnn.png\")\n",
    "plt.show()"
   ]
  },
  {
   "cell_type": "markdown",
   "id": "1b8505f5",
   "metadata": {},
   "source": [
    "## Step 7: Save the Model"
   ]
  },
  {
   "cell_type": "code",
   "execution_count": 8,
   "id": "6f628589",
   "metadata": {},
   "outputs": [
    {
     "name": "stderr",
     "output_type": "stream",
     "text": [
      "E:\\edu\\occlusion-aware-face-recognition\\oafrenv\\lib\\site-packages\\keras\\src\\engine\\training.py:3000: UserWarning: You are saving your model as an HDF5 file via `model.save()`. This file format is considered legacy. We recommend using instead the native Keras format, e.g. `model.save('my_model.keras')`.\n",
      "  saving_api.save_model(\n"
     ]
    },
    {
     "name": "stdout",
     "output_type": "stream",
     "text": [
      "Model saved as cnn_model.h5\n"
     ]
    }
   ],
   "source": [
    "model.save(\"E:/edu/occlusion-aware-face-recognition/models/cnn_model.h5\")\n",
    "print(\"Model saved as cnn_model.h5\")"
   ]
  },
  {
   "cell_type": "code",
   "execution_count": null,
   "id": "0bcaff88",
   "metadata": {},
   "outputs": [],
   "source": []
  }
 ],
 "metadata": {
  "kernelspec": {
   "display_name": "occlusion project",
   "language": "python",
   "name": "oafrenv"
  },
  "language_info": {
   "codemirror_mode": {
    "name": "ipython",
    "version": 3
   },
   "file_extension": ".py",
   "mimetype": "text/x-python",
   "name": "python",
   "nbconvert_exporter": "python",
   "pygments_lexer": "ipython3",
   "version": "3.8.10"
  }
 },
 "nbformat": 4,
 "nbformat_minor": 5
}
